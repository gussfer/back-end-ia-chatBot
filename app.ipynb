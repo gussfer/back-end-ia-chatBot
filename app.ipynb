{
 "cells": [
  {
   "cell_type": "code",
   "execution_count": 1,
   "metadata": {},
   "outputs": [],
   "source": [
    "import os\n",
    "import PyPDF2\n",
    "import nltk\n",
    "from nltk.tokenize import word_tokenize\n",
    "from nltk.corpus import stopwords\n",
    "from nltk.stem import WordNetLemmatizer\n",
    "from sklearn.feature_extraction.text import TfidfVectorizer\n",
    "from sklearn.metrics.pairwise import cosine_similarity\n",
    "import openai\n",
    "import dotenv"
   ]
  },
  {
   "cell_type": "code",
   "execution_count": 2,
   "metadata": {},
   "outputs": [],
   "source": [
    "# Configuração da API do OpenAI\n",
    "dotenv.load_dotenv(dotenv.find_dotenv())\n",
    "API_KEY = os.getenv(\"API_KEY\")\n",
    "openai.api_key = API_KEY\n",
    "# print(openai.api_key)"
   ]
  },
  {
   "cell_type": "code",
   "execution_count": 3,
   "metadata": {},
   "outputs": [
    {
     "name": "stderr",
     "output_type": "stream",
     "text": [
      "[nltk_data] Downloading package punkt to\n",
      "[nltk_data]     C:\\Users\\gustavo.ferreira\\AppData\\Roaming\\nltk_data...\n",
      "[nltk_data]   Package punkt is already up-to-date!\n",
      "[nltk_data] Downloading package stopwords to\n",
      "[nltk_data]     C:\\Users\\gustavo.ferreira\\AppData\\Roaming\\nltk_data...\n",
      "[nltk_data]   Package stopwords is already up-to-date!\n",
      "[nltk_data] Downloading package rslp to\n",
      "[nltk_data]     C:\\Users\\gustavo.ferreira\\AppData\\Roaming\\nltk_data...\n",
      "[nltk_data]   Package rslp is already up-to-date!\n"
     ]
    },
    {
     "data": {
      "text/plain": [
       "True"
      ]
     },
     "execution_count": 3,
     "metadata": {},
     "output_type": "execute_result"
    }
   ],
   "source": [
    "# Configuração do NLTK\n",
    "nltk.download('punkt')\n",
    "nltk.download('stopwords')\n",
    "nltk.download('rslp')"
   ]
  },
  {
   "cell_type": "code",
   "execution_count": 4,
   "metadata": {},
   "outputs": [],
   "source": [
    "# Função para listar todos os arquivos PDF em um diretório\n",
    "def listar_pdfs_em_diretorio(diretorio):\n",
    "    return [os.path.join(diretorio, arquivo) for arquivo in os.listdir(diretorio) if arquivo.lower().endswith('.pdf')]"
   ]
  },
  {
   "cell_type": "code",
   "execution_count": 5,
   "metadata": {},
   "outputs": [],
   "source": [
    "# Função para converter múltiplos PDFs em texto puro\n",
    "def extrair_textos_dos_pdfs(diretorio):\n",
    "    lista_caminhos_pdf = listar_pdfs_em_diretorio(diretorio)\n",
    "    textos = []\n",
    "    for caminho_pdf in lista_caminhos_pdf:\n",
    "        texto = \"\"\n",
    "        with open(caminho_pdf, 'rb') as arquivo:\n",
    "            leitor_pdf = PyPDF2.PdfReader(arquivo)\n",
    "            for pagina in leitor_pdf.pages:\n",
    "                texto += pagina.extract_text()\n",
    "        textos.append(texto)\n",
    "    return textos"
   ]
  },
  {
   "cell_type": "code",
   "execution_count": 7,
   "metadata": {},
   "outputs": [],
   "source": [
    "# Pré-processamento de texto\n",
    "def preprocessar_texto(texto):\n",
    "    # Tokenização\n",
    "    tokens = word_tokenize(texto.lower())\n",
    "    # Remoção de stopwords, pontuações e tokens não alfanuméricos\n",
    "    stopwords_en = set(stopwords.words('portuguese'))\n",
    "    tokens_filtrados = [token for token in tokens if token.isalnum() and token not in stopwords_en]\n",
    "    # Lematização\n",
    "    lemmatizer = WordNetLemmatizer()\n",
    "    tokens_lemmatizados = [lemmatizer.lemmatize(token) for token in tokens_filtrados]\n",
    "    if not tokens_lemmatizados:\n",
    "        # Se não houver nenhuma palavra alfanumérica após o pré-processamento, manter todas as palavras\n",
    "        tokens_lemmatizados = [token for token in tokens if token.isalnum()]\n",
    "    return ' '.join(tokens_lemmatizados)"
   ]
  },
  {
   "cell_type": "code",
   "execution_count": 8,
   "metadata": {},
   "outputs": [],
   "source": [
    "# Construção do índice invertido\n",
    "def construir_indice(documentos):\n",
    "    tfidf_vectorizer = TfidfVectorizer()\n",
    "    matriz_tfidf = tfidf_vectorizer.fit_transform(documentos)\n",
    "    return tfidf_vectorizer, matriz_tfidf"
   ]
  },
  {
   "cell_type": "code",
   "execution_count": 9,
   "metadata": {},
   "outputs": [],
   "source": [
    "# Busca de documentos relevantes\n",
    "def buscar_documentos(pergunta, documentos, tfidf_vectorizer, matriz_tfidf):\n",
    "    pergunta = preprocessar_texto(pergunta)\n",
    "    pergunta_vetor = tfidf_vectorizer.transform([pergunta]) \n",
    "    similaridades = cosine_similarity(pergunta_vetor, matriz_tfidf)\n",
    "    indice_doc_relevantes = similaridades.argmax()\n",
    "    return documentos[indice_doc_relevantes]"
   ]
  },
  {
   "cell_type": "code",
   "execution_count": 10,
   "metadata": {},
   "outputs": [],
   "source": [
    "# Geração de respostas com o ChatGPT\n",
    "def gerar_resposta(pergunta, contexto):\n",
    "    prompt = f\"Contexto: {contexto}\\n\\nPergunta: {pergunta}\\n\\nResposta do modelo:\\n\"\n",
    "    resposta = openai.Completion.create(\n",
    "        model=\"gpt-3.5-turbo-instruct\",\n",
    "        prompt=prompt,\n",
    "        max_tokens=300,\n",
    "        temperature=0.5,\n",
    "        top_p=0.9,\n",
    "        frequency_penalty=0.0,\n",
    "        presence_penalty=0.0\n",
    "    )\n",
    "    resposta_texto = resposta.choices[0]['text'].strip()\n",
    "    # Limpar contexto após cada pergunta\n",
    "    contexto = \"\"\n",
    "    # Remover parênteses e aspas\n",
    "    resposta_texto = resposta_texto.strip('()\"')\n",
    "    return resposta_texto"
   ]
  },
  {
   "cell_type": "code",
   "execution_count": 14,
   "metadata": {},
   "outputs": [
    {
     "name": "stdout",
     "output_type": "stream",
     "text": [
      "Resposta: A data de criação da POLÍTICA CORPORATIVA DE REMUNERAÇÃO foi em 01/01/2019 e a última alteração foi em 01/01/2021.\n",
      "Até logo!\n"
     ]
    }
   ],
   "source": [
    "# Função principal\n",
    "# Função principal\n",
    "def principal():\n",
    "    # 1. Pré-processamento de Dados\n",
    "    diretorio_pdfs = r'C:\\Users\\gustavo.ferreira\\Desktop\\IA_chatBot\\Políticas'  # Substitua pelo caminho do diretório onde os PDFs estão localizados\n",
    "    textos = extrair_textos_dos_pdfs(diretorio_pdfs)\n",
    "    \n",
    "    # Pré-processamento dos textos dos documentos\n",
    "    textos_preprocessados = [preprocessar_texto(texto) for texto in textos if texto.strip()]\n",
    "    \n",
    "    # 2. Indexação de Conteúdo\n",
    "    tfidf_vectorizer, matriz_tfidf = construir_indice(textos_preprocessados)\n",
    "\n",
    "    contexto = \"\"  # Inicializa o contexto como uma string vazia\n",
    "\n",
    "    while True:\n",
    "        # 3. Compreensão de Perguntas\n",
    "        pergunta = input(\"Faça uma pergunta sobre os normativos corporativos (ou digite 'sair' para encerrar): \")\n",
    "        if pergunta.lower() == 'sair':\n",
    "            print(\"Até logo!\")\n",
    "            break\n",
    "\n",
    "        # Adiciona o contexto à pergunta\n",
    "        pergunta_com_contexto = f\"{pergunta} {contexto}\"\n",
    "\n",
    "        # 4. Extração de Palavras-Chave\n",
    "        palavras_chave = word_tokenize(pergunta_com_contexto.lower())\n",
    "\n",
    "        # 5. Busca e Recuperação de Informações\n",
    "        doc_relevante = buscar_documentos(pergunta_com_contexto, textos_preprocessados, tfidf_vectorizer, matriz_tfidf)\n",
    "\n",
    "        # 6. Geração de Respostas\n",
    "        resposta = gerar_resposta(pergunta_com_contexto, doc_relevante)\n",
    "        print(\"Resposta:\", resposta)\n",
    "\n",
    "        # Atualiza o contexto com a última pergunta e resposta\n",
    "        contexto += f\" Pergunta: {pergunta} Resposta: {resposta}\"\n",
    "\n",
    "if __name__ == \"__main__\":\n",
    "    principal()\n"
   ]
  },
  {
   "cell_type": "code",
   "execution_count": 13,
   "metadata": {},
   "outputs": [
    {
     "name": "stdout",
     "output_type": "stream",
     "text": [
      "[' POLÍTICA  CORPORATIVA DE REMUNERAÇÃO  \\nAlgar S/A Empreendimentos e Participações  \\nPolítica  Corporativa  Data de Criação/Alteração:  01/01 /2023 Versão: 01 \\nDiretoria Corporativa  de \\nGente  Criado/Alterado por:  Juliana Afonseca  Validade: Indeterminada  \\n \\n \\n*Documento Público – Algar S/A Empreendimentos e Participações  Página 1 de 5 \\n \\n1. OBJETIVO  \\n1.1 Estabelecer diretrizes e critérios  para a prática de Remuneração nas empresas  controladas pelo  \\nGrupo Algar  (“Empresas do Grupo Algar”) , visando manter a competitividade externa, a \\nmeritocracia e equidade interna , o alinhamento de interesses dos associados com a empresa e \\nacionistas , e o reconhecimento exclusivamente pela performance.  \\n \\n2. PRINCÍPIO DO CÓDIGO DE CONDUTA ALGAR  \\n2.1 Esta política  regula  os princípio s Servir e Respeito previsto s no Código de Conduta  Algar.  \\n \\n3. REFERÊNCIAS  \\n3.1. Código de Conduta Algar ; \\n3.2. Regimento Interno do Comitê de Gente;  \\n3.3. Política Corporativa de Gente ; \\n3.5 Norma  Corporativa de Benefícios ; \\n3.5 Demais documentos normativos das empresas Algar . \\n \\n4. ABRANGÊNCIA  \\n4.1 Esta política  aplica -se às Empresas do  Grupo Algar e seus associados . \\n4.2 A observância a esta política  é de caráter obrigatório aos associados das empresas do Grupo \\nAlgar, sobretudo lideranças.  \\n \\n5. DIRETRIZES DE REMUNERAÇÃO  DO GRUPO ALGAR  \\n5.1 REMUNERAÇÃO TOTAL  \\n5.1.1 A remuneração total é composta pela remuneração fixa, podendo ser acrescida de parcelas \\nvariáveis de curto e longo prazos, conforme critérios definidos por cada  negócio.  \\nRT = RF + ICP + ILP , onde:  \\nRT = remuneração total  \\nRF = remuneração fixa  \\nICP = incentivo de curto pr azo (remuneração variável de curto prazo)  \\nILP = incentivo de longo prazo  (remuneração variável de longo prazo)  \\n \\n5.1.2 Os valores de remuneração total  devem  ser reavaliados  e adequados , quando necessário , com \\nbase em pesquisas de mercado que considerem um grupo  de empresas representativo e  POLÍTICA  CORPORATIVA DE REMUNERAÇÃO  \\nAlgar S/A Empreendimentos e Participações  \\nPolítica  Corporativa  Data de Criação/Alteração:  01/01 /2023 Versão: 01 \\nDiretoria Corporativa  de \\nGente  Criado/Alterado por:  Juliana Afonseca  Validade: Indeterminada  \\n \\n \\n*Documento Público – Algar S/A Empreendimentos e Participações  Página 2 de 5 \\n \\ncomparáveis ao negócio . No caso de necessidade de adequação, deve ser levado em \\nconsideração também a complexidade do negócio e os desafios do mesmo . \\n \\n5.1.3 Como referência para o planejamento da  remuneração total e  de suas três  componentes (RF, \\nICP e ILP), deverá ser utilizada a posição P50 ou mediana das respectivas faixas de mercado, \\ncom flexibilidade de variação  acima ou abaixo conforme necessário ou adequado para cada \\nassociado / negócio.  \\n \\n 5.1.3.1 Adota -se como amplitude salarial na faixa  recomendada , o mínimo de 0.80 e o máximo \\nde 1.20 em relação ao parâmetro  P50 (mediana).  \\n \\n5.2 REMUNERAÇÃO FIXA  \\n5.2.1 A remuneração fixa é o elemento principal e fundamental da  remuneração total, e deverá se \\nbasear especialmente na posição conforme design organizacional e nas  responsabilidades \\ndesempenhadas na empresa , bem como na experiência  individual.  \\n \\n5.2.2 A remuneração fixa deve compreende r no mínimo  o salário base, mais adicionais legais.  \\n \\n5.2.3 As revisões salariais  podem ser feitas como parte do processo de  avaliação  de performance , \\nlevando -se em conta,  a entrega de resultado, o desempenho cultural  e planejamento \\norçamentário , além da referência do mercado dada pela mediana.  \\n \\n5.3 REMUNERAÇÃO V ARIÁVEL  \\n5.3.1 A remuneração variável é composta pelo ICP -Incentivo de Curto Prazo e ILP -Incentivo de \\nLongo Prazo, que compreende m os pagamentos não -fixos oriundos do atingimento de metas e \\ndesafios  forma is e previamente estabelecido s conforme o cargo  do associado1.  \\n \\n5.3.1.1 Fazem parte do ICP -Incentivo de Curto Prazo:  \\na) Bônus ou remuneração variável por metas individuais/coletivas do negócio  \\nb) Comissionamento  \\nc) Participação nos lucros  e resultados  \\nd) Gratificação especial por mérito  ou lump sum  \\n \\n1 Os critérios operacionais do ICP e ILP estão definidos na  Instrução de Trabalho  de de cada negócio.   POLÍTICA  CORPORATIVA DE REMUNERAÇÃO  \\nAlgar S/A Empreendimentos e Participações  \\nPolítica  Corporativa  Data de Criação/Alteração:  01/01 /2023 Versão: 01 \\nDiretoria Corporativa  de \\nGente  Criado/Alterado por:  Juliana Afonseca  Validade: Indeterminada  \\n \\n \\n*Documento Público – Algar S/A Empreendimentos e Participações  Página 3 de 5 \\n \\ne) Incentivo à produtividade  \\n \\n5.3.1.2 O ILP – Incentivo de Longo Prazo trata -se de um  plano de remuneração variável cujo \\nprazo para pagamento é superior a 1 (um) ano.  Não necessita ser negociado em sindicato, mas \\ndeve obedecer ao  orçamento, porte, resultados e a prática de mercado conforme cada empresa.  \\n \\n5.3.1.3 Os planos de ICP e ILP para C -Level (Presidentes e Comitê de Direção) devem ser \\naprovados pelo Conselho de Administração, mediante recomendação do Comitê de G ente, para \\ntodas as Empresas do Grupo Algar. Para cargos não -executivos, a aprovação deverá ser fei ta \\npela Redir da própria empresa.  \\n \\nA necessidade de aprovação nos sindicatos das categorias para todos os modelos de \\nremuneração variável citados acima, é de  responsabilidade de cada empresa, bem como a \\ndefinição de métricas e elegibilidade em Instruções  de Trabalho específica s de cada negócio.  \\n \\n5.3.2 Os componentes do IC P citados no item 5.3.1.1 de Diretores Corporativos  e C-Level \\n(Presidentes e Comitê de Direção)  devem ser aprovados  no Conselho de Administração , \\nmediante recomendação do Comitê de Gente.  \\n \\n5.3.3 A apuração do atingimento das metas estabelecidas nos planos de ICP e ILP dos Diretores \\nCorporativos e C-Level (Presidente s e Comitê de Direção) das empresas  deve ser aprovada pelo \\nConselho de Administração, mediante recomendação do Comitê de Gente.  \\n \\n5.3.4 A apuração do atingimento das metas de resultado financeiro do ICP e do ILP deve ser aprovada \\npelo Conselho de Administr ação, mediante recomendação do Comitê de Auditoria e Gestão de \\nRiscos.  \\n \\n5.4 BENEFÍCIOS  \\n5.4.1  Além da remuneração total, os associados  farão jus ao recebimento dos benefícios previstos \\nna Norma  Corporativa de Benefícios  e nas Instruções de Trabalho das empresas Algar . A cesta \\nde benefícios e seus critérios serão definid os por nível de cargo , sendo de responsabilidade de \\ncada empresa , e precisa levar em consideração a estratégia do negócio, a prática de mercado \\ndo seu set or e o orçamento .   POLÍTICA  CORPORATIVA DE REMUNERAÇÃO  \\nAlgar S/A Empreendimentos e Participações  \\nPolítica  Corporativa  Data de Criação/Alteração:  01/01 /2023 Versão: 01 \\nDiretoria Corporativa  de \\nGente  Criado/Alterado por:  Juliana Afonseca  Validade: Indeterminada  \\n \\n \\n*Documento Público – Algar S/A Empreendimentos e Participações  Página 4 de 5 \\n \\n5.4.2  A gestão dos contratos de benefício com fornecedores , tais como, assistência médica, \\nprevidência complementar, check -up médico, dentre outros , bem como os mecanismos de \\ncontrole de benefícios, é de responsabilidade de cada empresa .  \\n \\n5.4.3  Deverão ser aproveitadas  as negociações entre as empresas , no que tange a benefícios, para \\nganhos em escala.   \\n \\n6. DISPOSIÇÕES FINAIS  \\n6.1 Todos os reconhecimentos, variáveis ou fixos, precisam levar em consideração e respeitar o \\nresultado e orçamento das empresas.  \\n \\n6.2 Todos os reconhecimentos, variáveis ou fixos, precisam ser aprovados pelo Responsável de \\nTalentos Humanos da empresa que avaliará a necessidade de aprovação do Diretor Presidente \\nou Diretor Corporativo  / C-Level. \\n \\n6.3 O grupo Algar não pratica qualque r diferencia ção na remuneração de seus associados por \\ngênero, raça ou outras características pessoais . \\n \\n6.4 Anualmente deverão ser reportados indicadores estatístic os que comprovem a equidade de \\nremuneração para os órgãos de Governança.  \\n \\n6.5 Omissões ou dúvidas de interpretação desta política  serão submetidos à Diretoria Corporativa \\nde Gente . \\n \\n6.6 O presente documento e suas atualizações entram em vigor na data da sua aprovação pelo \\nConselho de Administração  da Algar S/A . \\n \\n6.7 A estratégia de remuneraçã o do C -Level, bem como a proposta dos planos de ICP e ILP serão \\nrealizadas pela Diretoria Corporativa de Gente e aprovadas no Conselho de Administração  após \\nanálise e recomendação do  Comitê de Gente . \\n \\n6.8 A aplicação desta política respeita a legislação específ ica vigente, quanto aos cálculos da \\nremuneração e seus efeitos.   POLÍTICA  CORPORATIVA DE REMUNERAÇÃO  \\nAlgar S/A Empreendimentos e Participações  \\nPolítica  Corporativa  Data de Criação/Alteração:  01/01 /2023 Versão: 01 \\nDiretoria Corporativa  de \\nGente  Criado/Alterado por:  Juliana Afonseca  Validade: Indeterminada  \\n \\n \\n*Documento Público – Algar S/A Empreendimentos e Participações  Página 5 de 5 \\n \\n6.9 Qualquer contratação de benefícios ou remuneração que implique, direta ou indiretamente, uma \\nautoaprovação deve ser submetida a aprovação no Conselho de Administração , mediante \\nrecomendação do  Comitê de Gente.  \\n \\n6.10  Nenhum associado pode participar de qualquer deliberação que envolva sua própria \\nremuneração total , ou seja remuneração fixa, variável e benefícios.  \\n \\n6.11  As deliberações  tomadas com base nesta Política deverão observar os limites de alçadas e \\ncompetências dos órgãos de governança das Empresas Algar.  \\n \\n7.  HISTÓRICO DE ALTERAÇÕES  \\nVersão  Aprovador  Data  Alterações  \\n01 Conselho de Administração da Algar S/A  19/12 /2022 Publicação Inicial  \\n \\n', ' POLÍTICA  DE ALÇADAS  \\nAlgar S/A Empreendimentos e Participações  \\nPolíticas  Data de Criação/Alteração:  01/01/2023  Versão: 02 \\nConselho de \\nAdministração  Criado/Alterado por:  Gustavo Matsumoto  Validade: indeterminada  \\n \\n \\n*Documento Público – Algar S/A Empreendimentos e Participações  Página 1 de 5 \\n \\n1. OBJETIVO  \\n1.1 Apresentar as regras de alçadas para aprovações da Algar S/A Empreendimentos e \\nParticipações e suas filiais, pontuando as responsabilidades. Esta política aplica -se também \\nao CSC Algar, quando atuando em nome e benefício direto da Algar S/A.  \\n \\n1.2 Esta Política  deve ser considerada em conjunto com o Código de Conduta Algar , Estatuto \\nSocial ou Contrato S ocial das empresas , Documentos Normativos , corporativ os ou não, e a \\nlegislação aplicável , que em conjunto, norteiam as alçadas adotadas no Grupo Algar . \\n \\n2. PRINCÍPIO CÓDIGO DE CONDUTA ALGAR  \\n2.1. Esta Política regula o  Princípio Integridade previsto no Código de Conduta Algar.  \\n \\n3. REFERÊNCIAS  \\n3.1. Código de Conduta Algar;  \\n3.2. Acordos de Acionistas;  \\n3.3. Estatuto Social da Algar S/A;  \\n3.4. Política Corporativa de Transações com Partes Relacionadas e Conflito de Interesses ;  \\n3.5. Política Corporativ a de G estão de Consequências ; \\n3.6. Política Corporativa de Finanças e Estratégia;  \\n3.7. Política Corporativa Jurídica;  \\n3.8. Norma Corporativa de Alienação de Ativos . \\n \\n4. GENERALIDADES  \\n4.1 Esta Política deve ser analisada em conjunto com o Estatuto Social da Algar S/A, para \\navaliação das competências dos órgãos de governança (Assembleia, Conselho de \\nAdministração e Diretoria) e eventuais alçadas não previstas neste documento.  \\n \\n4.2 Os limites de atuação desta Política devem ser cumpridos conjuntamente com as regras \\nprevistas no Código de Conduta Algar, Estatuto Social ou Contrato Social das empresas, \\npolíticas, normas e instruções de trabalho , ou seja, não  substituem  as aprovações  que \\nporventura possam ser exigidas por outros normativos  específic os. \\n  POLÍTICA  DE ALÇADAS  \\nAlgar S/A Empreendimentos e Participações  \\nPolíticas  Data de Criação/Alteração:  01/01/2023  Versão: 02 \\nConselho de \\nAdministração  Criado/Alterado por:  Gustavo Matsumoto  Validade: indeterminada  \\n \\n \\n*Documento Público – Algar S/A Empreendimentos e Participações  Página 2 de 5 \\n \\n4.3 Esta Política é pautada em limites máximos estabelecidos aos cargos de gestão da \\nempresa e seus órgãos deliberativos. Para os demais níveis internos, a Diretoria \\nEstatutária da empresa de finirá os limites de valores a serem delegados com \\nobrigatoriedade de emissão de procurações. As procurações serão outorgadas no termo \\ndo Estatuto Social da Companhia.  \\n \\n4.4 Os limites de valores definidos neste documento referem -se aos  valores constantes dos  \\norçamentos aprovados, sendo que qualquer valor não previsto em orçamento deverá ser \\nsubmetido à aprova ção do Conselho de Administração.  \\n \\n4.5 As aprovações devem ser obrigatoriamente vinculadas às respectivas áreas de competência \\n(originadores/responsáveis) da demanda, não podendo ser aceitas aprovações por \\nresponsáveis de áreas distintas às envolvidas. Na eventual impossibilidade de uma \\ndeterminada aprovação por parte do titular da responsabilidade, de seu substituto formal, \\nou procurador, independente do motivo , a aprovação deverá ser do superior hierárquico do \\ntitular da responsabilidade.  \\n \\n4.6 Esta Política não é capaz de abranger todas as situações encontradas na prática, \\nconsequentemente, não substitui a responsabilidade de julgamento por parte dos \\nenvolvidos e a  consulta aos órgãos de governança, área jurídica, de compliance e/ou \\nqualquer outra área que possa direcionar a melhor decisão, observada a hierarquia em \\nrelação a aprovações e conduta adequada no dia a dia.  \\n \\n4.7 É de responsabilidade de todos os associados q ue possuem limites de aprovação previstos \\nneste instrumento informar à Diretoria Corporativa da Algar S/A , atos e fatos que saiam ou \\npotencialmente possam sair do curso normal dos negócios, das atividades e de suas \\nobrigações que possam colocar em risco o patrimônio ou a reputação da marca Algar, \\nimagem do Grupo Algar, ou impactar de forma relevante outras empresas do Grupo Algar \\ne/ou colocar em riscos os princí pios do Código de Conduta Algar.  \\n \\n4.7.1  Caso a Diretoria Corporativa da Algar S/A entenda que o ato ou fato afeta a \\nreputação ou credibilidade do Grupo Algar, deverá tomar todas as ações mitigadoras \\ne informar ao Conselho de Administração .  POLÍTICA  DE ALÇADAS  \\nAlgar S/A Empreendimentos e Participações  \\nPolíticas  Data de Criação/Alteração:  01/01/2023  Versão: 02 \\nConselho de \\nAdministração  Criado/Alterado por:  Gustavo Matsumoto  Validade: indeterminada  \\n \\n \\n*Documento Público – Algar S/A Empreendimentos e Participações  Página 3 de 5 \\n \\n4.8 Não é permitida: (i) a utoaprovação; (ii)  aprovação de atos e despesas que se revertam em \\nbenefício de uso próprio do aprovador; e (iii) aprovação conjunta por parentes \\nconsanguíneos ou por afinidade. Em todas estas situações, deve -se submeter à aprovação \\nsuperior.  \\n \\n4.9 É responsab ilidade de todos os membros da alta administração, executivos e associados, \\nobedecer às disposições da presente Política. A não observância poderá impactar o Grupo \\nAlgar expondo -o a riscos financeiros, societários, regulatórios, reputacionais, dentre outro s. \\nOs casos de não observância das disposições previstas na presente Política serão \\nsubmetidos  às medidas  da Política Corporativa de Gestão de Consequências.   \\n \\n5.  ALÇADAS PARA APROVAÇÃO  \\nAplicam -se as deliberações e contratações da diretoria da Algar S/A os valores e critérios abaixo \\ndefinidos:  \\n \\n5.1  Limites de alçadas  \\n \\n \\nNota 1: Os limites acima definidos referem -se ao total do valor de fac e pelo prazo \\ncontratado,  independente de encargos, juros ou correções . \\n \\n5.2 A inclusão na ordem do dia para deliberação do C onselho de Administração  da Algar S/A , \\nconforme indicado no  Item 5.1, deverá ser previamente analisada e aprovada pelo \\nPresidente do Conselho de Administração.  \\nNível Limites (R$)\\nConselho de Administração Acima\\nRedir Empresa 30.000.000\\nDiretor Estatutário 5.000.000\\nDiretor não estatutário 1.000.000\\nGerente 50.000\\nCoordenador 25.000 POLÍTICA  DE ALÇADAS  \\nAlgar S/A Empreendimentos e Participações  \\nPolíticas  Data de Criação/Alteração:  01/01/2023  Versão: 02 \\nConselho de \\nAdministração  Criado/Alterado por:  Gustavo Matsumoto  Validade: indeterminada  \\n \\n \\n*Documento Público – Algar S/A Empreendimentos e Participações  Página 4 de 5 \\n \\n5.3 As alçadas definidas  no Item 5.1  devem compreender os contratos acumulados por \\nprestador de serviços ou escopo, caso tenha sido realizada divisão da contratação em mais \\nde um instrumento ou partes contratantes (fracionamento).  \\n \\n5.4 Os casos de pagamento s ou liberaç ão de multa , encargos contr atuais ou concessão de \\ndescontos aos clientes  ou fornecedores  da Algar S/A , poderão ser aprovados até o limite de \\n10% da alçada  prevista no Item 5.1 e desde q ue limitado a 10% do valor do contrato. \\nAprovações superiores a R$ 300  mil deverão ser reportadas ao Comitê de Auditoria e \\nGestão de Riscos.  \\n \\n5.5 Alienação de imóveis deve ter aprovação do Conselho de Administração ou constar de \\nmaneira detalhada no orçamento anual aprovado da Algar S/A , conforme procedimentos \\nprevistos na Norma Corporativa de Alienação de Ativos . \\n \\n5.6 Para assunção de riscos financeiros ou com impacto financeiro acima de 10% da alçada \\ndefinida no Item 5.1, deverá submeter à aprovação da instância superior.  \\n \\n5.7 As transações com partes relacionadas devem seguir as determinações da Política \\nCorporativa de Partes Relacionadas  e Conflito de Interesses . \\n \\n6. DISPOSIÇÕES FINAIS  \\n6.1. As matérias a serem submetidas ao Conselho de Administração da Algar S/A deverão ser \\npreviamente v alidadas em reunião da  Diretoria Corporativa da Algar S/A.  \\n \\n6.2. Caso seja verificada incompatibilidade entre este documento, os Estatutos Sociais, \\neventuais acordos de acionistas ou a Legislação aplicável, estes prevalecerão sobre a \\nPolítica, devendo esta ser alterada no que for necessário.  \\n \\n6.3. Omissões ou dúvidas de interpretação desta Política serão submetidos à Diretoria  \\nCorporativa da Algar S/A .  \\n \\n6.4. Independente dos limites de alçadas e regras estabelecidos nesta Política, caso o associado \\nidentifique que determinada aprovação necessite de discussões e/ou avaliações  POLÍTICA  DE ALÇADAS  \\nAlgar S/A Empreendimentos e Participações  \\nPolíticas  Data de Criação/Alteração:  01/01/2023  Versão: 02 \\nConselho de \\nAdministração  Criado/Alterado por:  Gustavo Matsumoto  Validade: indeterminada  \\n \\n \\n*Documento Público – Algar S/A Empreendimentos e Participações  Página 5 de 5 \\n \\nestratégicas, necessário se faz pautar o tema na Diretoria Corporativa da Algar  S/A para \\navaliação do fluxo de aprovações pertinentes ao caso.  \\n \\n6.5. O presente documento e suas atualizações entram em vigor na data da sua aprovação pelo \\nConselho de Administração  da Algar S/A . \\n \\n7.  HISTÓRICO DE ALTERAÇÕES  \\n \\nVersão  Aprovador  Data  Alterações  \\n01 Conselho de Administração da Algar \\nS/A Março/2020  Retirada do nível do CEO \\nHolding  \\n02 Conselho de Administração da Algar \\nS/A 19/12 /2022  Revisão Projeto Coliseu  \\n \\nRetirada da duplicidade dos \\nitens constantes no Estatuto  \\n \\n', ' POLÍTICA  DE ALÇADAS  \\nAlgar Tech \\nPolíticas  Data de Criação/Alteração:  01/01/2023  Versão: 03 \\nConselho de \\nAdministração  Criado/Alterado por:  Gustavo Matsumoto  Validade: indeterminada  \\n \\n \\n*Documento Público – Algar Tech Página 1 de 5 \\n \\n1. OBJETIVO  \\n1.1 Apresentar as regras de alçadas para aprovações da Algar TI Consultoria S/A  e de suas \\ncontroladas (“ Algar Tech ”), pontuando as responsabilidades.  \\n \\n1.2 Esta Política  deve ser considerada em conjunto com o Código de Conduta Algar , Estatuto \\nSocial , Documentos Normativos , corporativ os ou não, e a legislação aplicável , que  em \\nconjunto, norteiam as e alçadas adotadas n a Algar Tech. \\n \\n2. PRINCÍPIO CÓDIGO DE CONDUTA ALGAR  \\n2.1 Esta Política  regula  o Princípio Integridade  previsto no Código de Conduta  Algar.  \\n \\n3. REFERÊNCIAS   \\n \\n3.1. Código de Conduta Algar ; \\n3.2. Estatuto Social da Algar Tech; \\n3.3. Política Corporativa de Transações com Partes Relacionadas e Conflito de Interesses ;  \\n3.4. Política Corporativa de Gestão de Consequências;  \\n3.5. Política Corporativa de Finanças e Estratégia;  \\n3.6. Política Corporativa Jurídica;  \\n3.7. Norma Corporativa de Alienação de Ativos.  \\n \\n4. GENERALIDADE S \\n4.1. Esta Política deve ser analisada em conjunto com o Estatuto Social da Algar Tech, para \\navaliação das competências dos órgãos de governança (Assembleia, Conselho de \\nAdministração da Algar S/A e Diretoria  da Algar Tech ) e eventuais alçadas não previstas neste \\ndocumento . \\n \\n4.2. Os limites de atuação desta Política devem ser cumpridos conjuntamente com as regras \\nprevistas no  Código de Conduta Algar, Estatuto Socia l, eventuais acordos de acionistas,  \\npolíticas, normas e instruções de trabalho, ou seja, não substituem  as ap rovações  que \\nporventura possam ser exigidas por outros normativos  específic os.  \\n  POLÍTICA  DE ALÇADAS  \\nAlgar Tech \\nPolíticas  Data de Criação/Alteração:  01/01/2023  Versão: 03 \\nConselho de \\nAdministração  Criado/Alterado por:  Gustavo Matsumoto  Validade: indeterminada  \\n \\n \\n*Documento Público – Algar Tech Página 2 de 5 \\n \\n4.3. Esta Política é pautada em limites máximos estabelecidos aos cargos de gestão da empresa \\ne seus órgãos deliberativos. Para os demais níveis internos, a Diretoria Estatutária da \\nempresa definirá os limites de valores a serem delegados com obrigatoriedade de emis são \\nde procurações. As procurações serão outorgadas no termo do Estatuto Social da Companhia.  \\n \\n4.4. Os limites de valores definidos neste documento referem -se aos  valores constantes dos  \\norçamentos aprovados, sendo que qualquer valor não previsto em orçamento de verá ser \\nsubmetido à aprova ção do Conselho de Administração  da Algar S/A . \\n \\n4.5. As aprovações devem ser obrigatoriamente vinculadas às respectivas áreas de competência \\n(originadores/responsáveis) da demanda, não podendo ser aceitas aprovações por \\nresponsáveis d e áreas distintas às envolvidas. Na eventual impossibilidade de uma \\ndeterminada aprovação por parte do titular da responsabilidade, de seu substituto formal, ou \\nprocurador, independente do motivo, a aprovação deverá ser do superior hierárquico do \\ntitular d a responsabilidade.  \\n \\n4.6. Esta Política não é capaz de abranger todas as situações encontradas na prática, \\nconsequentemente, não substitui a responsabilidade de julgamento por parte dos envolvidos \\ne a consulta aos órgãos de governança, área jurídica, de complia nce e/ou qualquer outra área \\nque possa direcionar a melhor decisão, observada a hierarquia em relação a aprovações e \\nconduta adequada no dia a dia.  \\n \\n4.7. É de responsabilidade de todos os associados que possuem limites de aprovação previstos \\nneste instrumento i nformar à Diretoria Estatutária da Algar Tech e/ou ao Conselho de \\nAdministração da Algar S/A, conforme hierarquia aplicável, bem como à Diretoria Corporativa \\nda Algar S/A, atos e fatos que saiam ou potencialmente possam sair do curso normal dos \\nnegócios, d as atividades e de suas obrigações que possam colocar em risco o patrimônio ou \\na reputação da marca Algar, imagem do Grupo Algar, ou impactar de forma relevante outras \\nempresas do Grupo Algar e/ou colocar em riscos os princípios do Código de Conduta Algar.  \\n \\n4.7.1.  Caso a Diretoria Corporativa da Algar S/A entenda que o ato ou fato afeta a reputação \\nou credibilidade do Grupo Algar, deverá tomar todas as ações mitigadoras e informar \\nao Conselho de Administração .  POLÍTICA  DE ALÇADAS  \\nAlgar Tech \\nPolíticas  Data de Criação/Alteração:  01/01/2023  Versão: 03 \\nConselho de \\nAdministração  Criado/Alterado por:  Gustavo Matsumoto  Validade: indeterminada  \\n \\n \\n*Documento Público – Algar Tech Página 3 de 5 \\n \\n4.8. Não é permitida: (i) autoaprovação; (ii)  aprovação de atos e despesas que se revertam em \\nbenefício de uso próprio do aprovador; (iii) aprovação conjunta por parentes consanguíneos \\nou por afinidade. Em todas estas situações, deve -se submeter à aprovação superior. Quando \\na aprovação envolver o Dire tor Presidente , deverá haver aprovação pelo Diretor  Financeiro, \\nobservados os limites de alçadas  deste cargo . \\n \\n4.9. É responsabilidade de todos os membros da alta administração, executivos e associados, \\nobedecer às disposições da presente Política. A não observância poderá impactar a Algar \\nTech, expondo -a a riscos financeiros, societários, regulatórios, reputacionais, d entre outros. \\nOs casos de não observância das disposições previstas na presente Política serão submetidos  \\nàs medidas  da Política Corporativa de Gestão de Consequências.   \\n \\n5.  ALÇADAS PARA APROVAÇÃO  \\nAplicam -se as deliberações e contratações da diretoria da Al gar Tech os valores e critérios abaixo \\ndefinidos . \\n \\n5.1. Limites de alçadas  \\n \\n \\nNota 1: Os limites acima definidos referem -se ao valor de face contratado, independente \\nde encargos, juros ou correções.  \\n \\n5.2. A inclusão na ordem do dia para deliberação do Conselho de Administração  da Algar S/A , \\nconforme indicado no  Item 5.1, deverá ser previamente analisada e aprovada pelo Presidente \\ndo Conselho de Administração . \\nOpex / Capex\\norçadoContratos \\nclientes e \\nendividamento\\nConselho de Administração Acima Acima\\nRedir Empresa 10.000.000 30.000.000\\nDiretor Presidente 5.000.000 25.000.000\\nDiretor Estatutário 3.000.000 10.000.000\\nGerente 100.000 200.000Tech\\nNível POLÍTICA  DE ALÇADAS  \\nAlgar Tech \\nPolíticas  Data de Criação/Alteração:  01/01/2023  Versão: 03 \\nConselho de \\nAdministração  Criado/Alterado por:  Gustavo Matsumoto  Validade: indeterminada  \\n \\n \\n*Documento Público – Algar Tech Página 4 de 5 \\n \\n5.3. As alçadas definidas  no Item 5.1  devem compreender os contratos acumulados por prestador \\nde ser viços ou escopo, caso tenha sido realizada divisão da contratação em mais de um \\ninstrumento ou partes contratantes (fracionamento).  \\n \\n5.4. Os pagamentos de multas e encargos contratuais a clientes ou fornecedores da Algar Tech, \\ndevem ser previamente aprovados at é os limites de: (i) 10% da alçada prevista no item 5.1 \\ne (ii) 10% do valor total do contrato. Referidas aprovações, se superiores a R$ 300 mil, \\ndeverão ser reportadas ao Comitê de Auditoria e Gestão de Riscos.  \\n \\n5.5. Os limites ora estabelecidos também se aplic am aos deflatores decorrentes de \\ndescumprimento de SLA ( Service Level Agreement ) ou níveis de serviços, atrelados a metas \\nestabelecidas em contratos com os clientes. Todos os casos devem ser reportados ao Comitê \\nde Auditoria e Gestão de Riscos.  \\n \\n5.6. Alienação de imóveis deve ter aprovação do Conselho de Administração da Algar S/A ou \\nconstar de maneira detalhada no orçamento anual aprovado da Algar  Tech, conforme \\nprocedimentos previstos na Norma  Corporativa de Alienação de Ativos . \\n \\n5.7. Para assunção de riscos financeiros ou com impacto financeiro acima de 10% da alçada \\ndefinida no Item 5.1, deverá submeter à aprovação da instância superior.  \\n \\n5.8. As transações com partes relacionadas devem seguir as determinações da Política Corporativa \\nde Partes Relacionadas  e Conflito de Interesses . \\n \\n6. DISPOSIÇÕES FINAIS  \\n6.1  As matérias a serem submetidas ao Conselho de Administração da Algar S/A deverão ser \\npreviamente validadas pela Diretoria Corporativa da Algar S/A.  \\n \\n6.2  Caso seja verificada incompatibilidade entre este document o, os Estatuto s Socia is, eventuais  \\nacordos de acionistas  ou a Legislação aplicável, estes  prevalecerão sobre a  Política , devendo \\nesta ser alterada  no que for necessário.  \\n  POLÍTICA  DE ALÇADAS  \\nAlgar Tech \\nPolíticas  Data de Criação/Alteração:  01/01/2023  Versão: 03 \\nConselho de \\nAdministração  Criado/Alterado por:  Gustavo Matsumoto  Validade: indeterminada  \\n \\n \\n*Documento Público – Algar Tech Página 5 de 5 \\n \\n6.3  Omissões ou dúvidas de interpretação desta Política serão submetidos  Diretoria Estatutária \\nda Algar Tech.   \\n \\n6.4  Independente dos limites de alçadas e regras estabelecidos nesta Política, caso o associado \\nidentifique que determinada aprovação necessite de discussões e/ou avaliações estratégicas, \\nnecessário se faz pautar o tema na Diretoria Corporativa da Algar  S/A para avaliação do fluxo \\nde aprovações pertinentes ao caso.  \\n \\n6.5  O presente documento e suas atualizações entram em vigor na data da sua aprovação pelo \\nConselho de Administração  da Algar S/A . \\n \\n7.  HISTÓRICO DE ALTERAÇÕES  \\nVersão  Aprovador  Data  Alterações  \\n01 Conselho de Administração da Algar S/A  Março/2020  Retirada do nível do CEO Holding  \\n02 Conselho de Administração da Algar S/A  Agosto/2022  Revisão Projeto Coliseu  \\nRetirada da duplicidade dos itens \\nconstantes no Estatuto  \\n03 Conselho de Administração da Algar S/A  19/12/2022  Alteração do valor de alçada da \\nDiretoria da Algar Tech  \\nRetirada do nível de Diretor não \\nEstatutário  \\nAlteração da redação do item 5.4  \\nInclusão do item 5.  \\n \\n \\n']\n"
     ]
    }
   ],
   "source": [
    "diretorio_pdfs = r'C:\\Users\\gustavo.ferreira\\Desktop\\IA_chatBot\\Políticas'\n",
    "textos = extrair_textos_dos_pdfs(diretorio_pdfs)\n",
    "print(textos)"
   ]
  }
 ],
 "metadata": {
  "kernelspec": {
   "display_name": "Python 3",
   "language": "python",
   "name": "python3"
  },
  "language_info": {
   "codemirror_mode": {
    "name": "ipython",
    "version": 3
   },
   "file_extension": ".py",
   "mimetype": "text/x-python",
   "name": "python",
   "nbconvert_exporter": "python",
   "pygments_lexer": "ipython3",
   "version": "3.7.4"
  }
 },
 "nbformat": 4,
 "nbformat_minor": 2
}
