{
 "cells": [
  {
   "cell_type": "code",
   "execution_count": 1,
   "metadata": {},
   "outputs": [],
   "source": [
    "import dotenv\n",
    "import os\n",
    "import PyPDF2\n",
    "import nltk\n",
    "from nltk.tokenize import word_tokenize\n",
    "from nltk.corpus import stopwords\n",
    "from nltk.stem import RSLPStemmer\n",
    "from sklearn.feature_extraction.text import TfidfVectorizer\n",
    "from sklearn.metrics.pairwise import cosine_similarity\n",
    "import openai"
   ]
  },
  {
   "cell_type": "code",
   "execution_count": 11,
   "metadata": {},
   "outputs": [],
   "source": [
    "# Configuração da API do OpenAI\n",
    "dotenv.load_dotenv(dotenv.find_dotenv())\n",
    "API_KEY = os.getenv(\"API_KEY\")\n",
    "openai.api_key = API_KEY"
   ]
  },
  {
   "cell_type": "code",
   "execution_count": 4,
   "metadata": {},
   "outputs": [
    {
     "name": "stderr",
     "output_type": "stream",
     "text": [
      "[nltk_data] Downloading package punkt to\n",
      "[nltk_data]     C:\\Users\\gustavo.ferreira\\AppData\\Roaming\\nltk_data...\n",
      "[nltk_data]   Package punkt is already up-to-date!\n",
      "[nltk_data] Downloading package stopwords to\n",
      "[nltk_data]     C:\\Users\\gustavo.ferreira\\AppData\\Roaming\\nltk_data...\n",
      "[nltk_data]   Package stopwords is already up-to-date!\n",
      "[nltk_data] Downloading package rslp to\n",
      "[nltk_data]     C:\\Users\\gustavo.ferreira\\AppData\\Roaming\\nltk_data...\n",
      "[nltk_data]   Package rslp is already up-to-date!\n"
     ]
    },
    {
     "data": {
      "text/plain": [
       "True"
      ]
     },
     "execution_count": 4,
     "metadata": {},
     "output_type": "execute_result"
    }
   ],
   "source": [
    "# Configuração do NLTK\n",
    "nltk.download('punkt')\n",
    "nltk.download('stopwords')\n",
    "nltk.download('rslp')"
   ]
  },
  {
   "cell_type": "code",
   "execution_count": 13,
   "metadata": {},
   "outputs": [],
   "source": [
    "# Função para listar todos os arquivos PDF em um diretório\n",
    "def listar_pdfs_em_diretorio(diretorio):\n",
    "    return [os.path.join(diretorio, arquivo) for arquivo in os.listdir(diretorio) if arquivo.lower().endswith('.pdf')]"
   ]
  },
  {
   "cell_type": "code",
   "execution_count": 15,
   "metadata": {},
   "outputs": [],
   "source": [
    "# Função para converter múltiplos PDFs em texto puro\n",
    "def extrair_textos_dos_pdfs(diretorio):\n",
    "    lista_caminhos_pdf = listar_pdfs_em_diretorio(diretorio)\n",
    "    textos = []\n",
    "    for caminho_pdf in lista_caminhos_pdf:\n",
    "        texto = \"\"\n",
    "        with open(caminho_pdf, 'rb') as arquivo:\n",
    "            leitor_pdf = PyPDF2.PdfReader(arquivo)\n",
    "            for pagina in leitor_pdf.pages:\n",
    "                texto += pagina.extract_text()\n",
    "        textos.append(texto)\n",
    "    return textos"
   ]
  },
  {
   "cell_type": "code",
   "execution_count": 6,
   "metadata": {},
   "outputs": [],
   "source": [
    "# Função para pré-processamento de texto: tokenizar, remover stop words e stemizar o texto\n",
    "def preprocessar_texto(texto):\n",
    "    # Tokenização\n",
    "    tokens = word_tokenize(texto.lower(), language='portuguese')\n",
    "    # Remoção de stopwords e tokens vazios\n",
    "    stopwords_pt = set(stopwords.words('portuguese'))\n",
    "    tokens_filtrados = [token for token in tokens if token.isalnum() and token not in stopwords_pt]\n",
    "    # Stemming - reduzir palavras focando em seu significado\n",
    "    stemmer = RSLPStemmer()\n",
    "    tokens_stemizados = [stemmer.stem(token) for token in tokens_filtrados]\n",
    "    return ' '.join(tokens_stemizados)"
   ]
  },
  {
   "cell_type": "code",
   "execution_count": 7,
   "metadata": {},
   "outputs": [],
   "source": [
    "def construir_indice(documentos):\n",
    "    tfidf_vectorizer = TfidfVectorizer()\n",
    "    matriz_tfidf = tfidf_vectorizer.fit_transform(documentos)\n",
    "    return tfidf_vectorizer, matriz_tfidf"
   ]
  },
  {
   "cell_type": "code",
   "execution_count": 8,
   "metadata": {},
   "outputs": [],
   "source": [
    "# Função para busca de documentos relevantes utilizando EMBEDDINGS (VETORIZAÇÃO DAS PALAVRAS)\n",
    "# Aproxima o vetor gerado da pergunta com os vetores do documento referência para retornar a resposta \n",
    "def buscar_documentos(pergunta, documentos, tfidf_vectorizer, matriz_tfidf):\n",
    "    pergunta = preprocessar_texto(pergunta)\n",
    "    pergunta_vetor = tfidf_vectorizer.transform([pergunta]) \n",
    "    similaridades = cosine_similarity(pergunta_vetor, matriz_tfidf)\n",
    "    indice_doc_relevantes = similaridades.argmax(axis=1)[0]\n",
    "    return documentos[indice_doc_relevantes]"
   ]
  },
  {
   "cell_type": "code",
   "execution_count": 9,
   "metadata": {},
   "outputs": [],
   "source": [
    "# Geração de respostas com o ChatGPT\n",
    "def gerar_resposta(pergunta, contexto):\n",
    "    resposta = openai.Completion.create(\n",
    "        engine=\"davinci-002\",\n",
    "        prompt=f\"Pergunta: {pergunta}\\nContexto: {contexto}\\nResposta:\"\n",
    "    )\n",
    "    return resposta.choices[0].text.strip()"
   ]
  },
  {
   "cell_type": "code",
   "execution_count": 18,
   "metadata": {},
   "outputs": [
    {
     "name": "stdout",
     "output_type": "stream",
     "text": [
      "polít alç alg empreend particip polít dat vers 02 conselh administr gustav matsumot validad indetermin document públic alg empreend particip págin 1 5 obje apresent regr alç aprov alg empreend particip fil pontu respons polít aplic csc alg atu nom benefíci diret alg polít dev consider conjunt códig condut alg estatut soc contrat s ocial empr document norm corporativ legisl aplic conjunt norte alç adot grup alg princípi códig condut alg polít regul princípi integr previst códig condut alg refer códig condut alg acord acion estatut soc alg polít corpor trans part relacion conflit inter polít corporativ g consequ polít corpor finanç estratég polít corpor juríd norm corpor alien ativ general polít dev analis conjunt estatut soc alg avali compet órg governanç assemble conselh administr diret event alç prev nest document limit atu dest polít dev cumpr conjunt regr prev códig condut alg estatut soc contrat soc empr polít norm instruç trabalh substitu aprov porvent poss exig outr norm específic polít alç alg empreend particip polít dat vers 02 conselh administr gustav matsumot validad indetermin document públic alg empreend particip págin 2 5 polít paut limit máx estabelec carg gest empr órg deliber demal nível intern diret estatutár empr finir limit val ser deleg obrigatoriedad emiss procur procur outorg term estatut soc companh limit val defin nest document ref val const orç aprov send qualqu val previst orç dev submet aprov ção conselh administr aprov dev obrig vincul respec áre compet demand pod aceit aprov respons áre distint envolv event impossibil determin aprov part titul respons substitut formal procur independ motiv aprov dev superi hierárqu titul respons polít capaz abrang tod situ encontr prát consequ substitu respons julg part envolv consult órg governanç áre juríd complianc qualqu outr áre poss direc melhor decis observ hierarqu relaç aprov condut adequ dia dia respons tod associ q ue possu limit aprov previst nest instrument inform diret corpor alg ato fat sai potenc poss sair curs norm negóci ativ obrig poss coloc risc patrimôni reput marc alg imag grup alg impact form relev outr empr grup alg coloc risc princí pio códig condut alg cas diret corpor alg entend ato fat afet reput credibil grup alg dev tom tod açõ mitig inform conselh administr polít alç alg empreend particip polít dat vers 02 conselh administr gustav matsumot validad indetermin document públic alg empreend particip págin 3 5 permit i utoaprov ii aprov ato desp revert benefíci uso própri aprov iii aprov conjunt parent consanguíne afin tod situ dev submet aprov superi responsab ilidad tod membr alt administr execu associ obedec dispos pres polít observ pod impact grup alg exp risc financ societ regulatóri reputac dentr outr cas observ dispos prev pres polít submet med polít corpor gest consequ alç aprov aplic deliber contrat diret alg val critéri abaix defin limit alç not 1 limit acim defin ref total val fac praz contrat independ encarg jur correç inclus ord dia deliber c onselh administr alg conform indic it dev prev analis aprov presid conselh administr nível limit r conselh administr acim red empr dire estatut dire estatut gerent coorden polít alç alg empreend particip polít dat vers 02 conselh administr gustav matsumot validad indetermin document públic alg empreend particip págin 4 5 alç defin it dev compreend contrat acumul prest serviç escop cas sid realiz divis contrat instrument part contrat fracion cas pag s liber ão mult encarg contr atual concess descont client fornec alg pod aprov limit 10 alç prev it desd q ue limit 10 val contrat aprov superi r 300 mil dev report comit audit gest risc alien imóvel dev ter aprov conselh administr const man detalh orç anual aprov alg conform proced previst norm corpor alien ativ assunç risc financ impact financ acim 10 alç defin it dev submet aprov inst superi trans part relacion dev segu determin polít corpor part relacion conflit inter dispos final matér ser submet conselh administr alg dev prev v alid reun diret corpor alg cas verific incompatibil document estatut soc event acord acion legisl aplic prevalec sobr polít dev alter necess omiss dúv interpret dest polít submet diret corpor alg independ limit alç regr estabelec nest polít cas associ identifiqu determin aprov necessit discuss avali polít alç alg empreend particip polít dat vers 02 conselh administr gustav matsumot validad indetermin document públic alg empreend particip págin 5 5 estratég necess faz paut tem diret corpor alg avali flux aprov pertin cas pres document atual entr vig dat aprov conselh administr alg histór alter vers aprov dat alter 01 conselh administr alg retir nível ceo holding 02 conselh administr alg revis projet colis retir duplic it const estatut\n",
      "polít alç alg tech polít dat vers 03 conselh administr gustav matsumot validad indetermin document públic alg tech págin 1 5 obje apresent regr alç aprov alg ti consult control alg tech pontu respons polít dev consider conjunt códig condut alg estatut soc document norm corporativ legisl aplic conjunt norte alç adot n alg tech princípi códig condut alg polít regul princípi integr previst códig condut alg refer códig condut alg estatut soc alg tech polít corpor trans part relacion conflit inter polít corpor gest consequ polít corpor finanç estratég polít corpor juríd norm corpor alien ativ general s polít dev analis conjunt estatut soc alg tech avali compet órg governanç assemble conselh administr alg diret alg tech event alç prev nest document limit atu dest polít dev cumpr conjunt regr prev códig condut alg estatut soc l event acord acion polít norm instruç trabalh substitu ap rov porvent poss exig outr norm específic polít alç alg tech polít dat vers 03 conselh administr gustav matsumot validad indetermin document públic alg tech págin 2 5 polít paut limit máx estabelec carg gest empr órg deliber demal nível intern diret estatutár empr definir limit val ser deleg obrigatoriedad emil procur procur outorg term estatut soc companh limit val defin nest document ref val const orç aprov send qualqu val previst orç ver submet aprov ção conselh administr alg aprov dev obrig vincul respec áre compet demand pod aceit aprov respons d áre distint envolv event impossibil determin aprov part titul respons substitut formal procur independ motiv aprov dev superi hierárqu titul d respons polít capaz abrang tod situ encontr prát consequ substitu respons julg part envolv consult órg governanç áre juríd compl nce qualqu outr áre poss direc melhor decis observ hierarqu relaç aprov condut adequ dia dia respons tod associ possu limit aprov previst nest instrument i nform diret estatutár alg tech conselh administr alg conform hierarqu aplic bem diret corpor alg ato fat sai potenc poss sair curs norm negóci d ativ obrig poss coloc risc patrimôni reput marc alg imag grup alg impact form relev outr empr grup alg coloc risc princípi códig condut alg cas diret corpor alg entend ato fat afet reput credibil grup alg dev tom tod açõ mitig inform conselh administr polít alç alg tech polít dat vers 03 conselh administr gustav matsumot validad indetermin document públic alg tech págin 3 5 permit i autoaprov ii aprov ato desp revert benefíci uso própri aprov iii aprov conjunt parent consanguíne afin tod situ dev submet aprov superi aprov envolv dir tor presid dev aprov dire financ observ limit alç dest carg respons tod membr alt administr execu associ obedec dispos pres polít observ pod impact alg tech exp risc financ societ regulatóri reputac d outr cas observ dispos prev pres polít submet med polít corpor gest consequ alç aprov aplic deliber contrat diret al gar tech val critéri abaix defin limit alç not 1 limit acim defin ref val fac contrat independ encarg jur correç inclus ord dia deliber conselh administr alg conform indic it dev prev analis aprov presid conselh administr opex capex orçadocontrat client endivid conselh administr acim acim red empr dire presid dire estatut gerent nível polít alç alg tech polít dat vers 03 conselh administr gustav matsumot validad indetermin document públic alg tech págin 4 5 alç defin it dev compreend contrat acumul prest viç escop cas sid realiz divis contrat instrument part contrat fracion pag mult encarg contrat client fornec alg tech dev prev aprov at limit i 10 alç prev it ii 10 val total contrat refer aprov superi r 300 mil dev report comit audit gest risc limit ora estabelec aplic am defla decorr descumpr sla serv level agreement nível serviç atrel met estabelec contrat client tod cas dev report comit audit gest risc alien imóvel dev ter aprov conselh administr alg const man detalh orç anual aprov alg tech conform proced previst norm corpor alien ativ assunç risc financ impact financ acim 10 alç defin it dev submet aprov inst superi trans part relacion dev segu determin polít corpor part relacion conflit inter dispos final matér ser submet conselh administr alg dev prev valid diret corpor alg cas verific incompatibil document estatut s soc is event acord acion legisl aplic prevalec sobr polít dev alter necess polít alç alg tech polít dat vers 03 conselh administr gustav matsumot validad indetermin document públic alg tech págin 5 5 omiss dúv interpret dest polít submet diret estatutár alg tech independ limit alç regr estabelec nest polít cas associ identifiqu determin aprov necessit discuss avali estratég necess faz paut tem diret corpor alg avali flux aprov pertin cas pres document atual entr vig dat aprov conselh administr alg histór alter vers aprov dat alter 01 conselh administr alg retir nível ceo holding 02 conselh administr alg revis projet colis retir duplic it const estatut 03 conselh administr alg alter val alç diret alg tech retir nível dire estatut alter red it inclus it 5\n"
     ]
    }
   ],
   "source": [
    "# 1. Pré-processamento de Dados\n",
    "diretorio_pdfs = r'C:\\Users\\gustavo.ferreira\\Desktop\\IA_chatBot\\Políticas'  # Substitua pelo caminho do diretório onde os PDFs estão localizados\n",
    "textos = extrair_textos_dos_pdfs(diretorio_pdfs)\n",
    "\n",
    "for texto in textos:\n",
    "    # Verifica se o texto extraído não está vazio\n",
    "    if texto.strip() == \"\":\n",
    "        print(\"O texto extraído de um dos PDFs está vazio. Verifique o PDF.\")\n",
    "        continue\n",
    "\n",
    "    texto_preprocessado = preprocessar_texto(texto)\n",
    "    # print(texto_preprocessado)"
   ]
  },
  {
   "cell_type": "code",
   "execution_count": null,
   "metadata": {},
   "outputs": [],
   "source": []
  },
  {
   "cell_type": "code",
   "execution_count": 12,
   "metadata": {},
   "outputs": [
    {
     "ename": "RateLimitError",
     "evalue": "You exceeded your current quota, please check your plan and billing details. For more information on this error, read the docs: https://platform.openai.com/docs/guides/error-codes/api-errors.",
     "output_type": "error",
     "traceback": [
      "\u001b[1;31m---------------------------------------------------------------------------\u001b[0m",
      "\u001b[1;31mRateLimitError\u001b[0m                            Traceback (most recent call last)",
      "\u001b[1;32m~\\AppData\\Local\\Temp\\ipykernel_11788\\504743256.py\u001b[0m in \u001b[0;36m<module>\u001b[1;34m\u001b[0m\n\u001b[0;32m     32\u001b[0m \u001b[1;33m\u001b[0m\u001b[0m\n\u001b[0;32m     33\u001b[0m \u001b[1;32mif\u001b[0m \u001b[0m__name__\u001b[0m \u001b[1;33m==\u001b[0m \u001b[1;34m\"__main__\"\u001b[0m\u001b[1;33m:\u001b[0m\u001b[1;33m\u001b[0m\u001b[1;33m\u001b[0m\u001b[0m\n\u001b[1;32m---> 34\u001b[1;33m     \u001b[0mprincipal\u001b[0m\u001b[1;33m(\u001b[0m\u001b[1;33m)\u001b[0m\u001b[1;33m\u001b[0m\u001b[1;33m\u001b[0m\u001b[0m\n\u001b[0m",
      "\u001b[1;32m~\\AppData\\Local\\Temp\\ipykernel_11788\\504743256.py\u001b[0m in \u001b[0;36mprincipal\u001b[1;34m()\u001b[0m\n\u001b[0;32m     28\u001b[0m \u001b[1;33m\u001b[0m\u001b[0m\n\u001b[0;32m     29\u001b[0m         \u001b[1;31m# 5. Geração de Respostas\u001b[0m\u001b[1;33m\u001b[0m\u001b[1;33m\u001b[0m\u001b[1;33m\u001b[0m\u001b[0m\n\u001b[1;32m---> 30\u001b[1;33m         \u001b[0mresposta\u001b[0m \u001b[1;33m=\u001b[0m \u001b[0mgerar_resposta\u001b[0m\u001b[1;33m(\u001b[0m\u001b[0mpergunta\u001b[0m\u001b[1;33m,\u001b[0m \u001b[0mdoc_relevante\u001b[0m\u001b[1;33m)\u001b[0m\u001b[1;33m\u001b[0m\u001b[1;33m\u001b[0m\u001b[0m\n\u001b[0m\u001b[0;32m     31\u001b[0m         \u001b[0mprint\u001b[0m\u001b[1;33m(\u001b[0m\u001b[1;34m\"Resposta:\"\u001b[0m\u001b[1;33m,\u001b[0m \u001b[0mresposta\u001b[0m\u001b[1;33m)\u001b[0m\u001b[1;33m\u001b[0m\u001b[1;33m\u001b[0m\u001b[0m\n\u001b[0;32m     32\u001b[0m \u001b[1;33m\u001b[0m\u001b[0m\n",
      "\u001b[1;32m~\\AppData\\Local\\Temp\\ipykernel_11788\\2330618352.py\u001b[0m in \u001b[0;36mgerar_resposta\u001b[1;34m(pergunta, contexto)\u001b[0m\n\u001b[0;32m      3\u001b[0m     resposta = openai.Completion.create(\n\u001b[0;32m      4\u001b[0m         \u001b[0mengine\u001b[0m\u001b[1;33m=\u001b[0m\u001b[1;34m\"davinci-002\"\u001b[0m\u001b[1;33m,\u001b[0m\u001b[1;33m\u001b[0m\u001b[1;33m\u001b[0m\u001b[0m\n\u001b[1;32m----> 5\u001b[1;33m         \u001b[0mprompt\u001b[0m\u001b[1;33m=\u001b[0m\u001b[1;34mf\"Pergunta: {pergunta}\\nContexto: {contexto}\\nResposta:\"\u001b[0m\u001b[1;33m\u001b[0m\u001b[1;33m\u001b[0m\u001b[0m\n\u001b[0m\u001b[0;32m      6\u001b[0m     )\n\u001b[0;32m      7\u001b[0m     \u001b[1;32mreturn\u001b[0m \u001b[0mresposta\u001b[0m\u001b[1;33m.\u001b[0m\u001b[0mchoices\u001b[0m\u001b[1;33m[\u001b[0m\u001b[1;36m0\u001b[0m\u001b[1;33m]\u001b[0m\u001b[1;33m.\u001b[0m\u001b[0mtext\u001b[0m\u001b[1;33m.\u001b[0m\u001b[0mstrip\u001b[0m\u001b[1;33m(\u001b[0m\u001b[1;33m)\u001b[0m\u001b[1;33m\u001b[0m\u001b[1;33m\u001b[0m\u001b[0m\n",
      "\u001b[1;32mc:\\Users\\gustavo.ferreira\\.pyenv\\pyenv-win\\versions\\3.7.4\\lib\\site-packages\\openai\\api_resources\\completion.py\u001b[0m in \u001b[0;36mcreate\u001b[1;34m(cls, *args, **kwargs)\u001b[0m\n\u001b[0;32m     23\u001b[0m         \u001b[1;32mwhile\u001b[0m \u001b[1;32mTrue\u001b[0m\u001b[1;33m:\u001b[0m\u001b[1;33m\u001b[0m\u001b[1;33m\u001b[0m\u001b[0m\n\u001b[0;32m     24\u001b[0m             \u001b[1;32mtry\u001b[0m\u001b[1;33m:\u001b[0m\u001b[1;33m\u001b[0m\u001b[1;33m\u001b[0m\u001b[0m\n\u001b[1;32m---> 25\u001b[1;33m                 \u001b[1;32mreturn\u001b[0m \u001b[0msuper\u001b[0m\u001b[1;33m(\u001b[0m\u001b[1;33m)\u001b[0m\u001b[1;33m.\u001b[0m\u001b[0mcreate\u001b[0m\u001b[1;33m(\u001b[0m\u001b[1;33m*\u001b[0m\u001b[0margs\u001b[0m\u001b[1;33m,\u001b[0m \u001b[1;33m**\u001b[0m\u001b[0mkwargs\u001b[0m\u001b[1;33m)\u001b[0m\u001b[1;33m\u001b[0m\u001b[1;33m\u001b[0m\u001b[0m\n\u001b[0m\u001b[0;32m     26\u001b[0m             \u001b[1;32mexcept\u001b[0m \u001b[0mTryAgain\u001b[0m \u001b[1;32mas\u001b[0m \u001b[0me\u001b[0m\u001b[1;33m:\u001b[0m\u001b[1;33m\u001b[0m\u001b[1;33m\u001b[0m\u001b[0m\n\u001b[0;32m     27\u001b[0m                 \u001b[1;32mif\u001b[0m \u001b[0mtimeout\u001b[0m \u001b[1;32mis\u001b[0m \u001b[1;32mnot\u001b[0m \u001b[1;32mNone\u001b[0m \u001b[1;32mand\u001b[0m \u001b[0mtime\u001b[0m\u001b[1;33m.\u001b[0m\u001b[0mtime\u001b[0m\u001b[1;33m(\u001b[0m\u001b[1;33m)\u001b[0m \u001b[1;33m>\u001b[0m \u001b[0mstart\u001b[0m \u001b[1;33m+\u001b[0m \u001b[0mtimeout\u001b[0m\u001b[1;33m:\u001b[0m\u001b[1;33m\u001b[0m\u001b[1;33m\u001b[0m\u001b[0m\n",
      "\u001b[1;32mc:\\Users\\gustavo.ferreira\\.pyenv\\pyenv-win\\versions\\3.7.4\\lib\\site-packages\\openai\\api_resources\\abstract\\engine_api_resource.py\u001b[0m in \u001b[0;36mcreate\u001b[1;34m(cls, api_key, api_base, api_type, request_id, api_version, organization, **params)\u001b[0m\n\u001b[0;32m    158\u001b[0m             \u001b[0mstream\u001b[0m\u001b[1;33m=\u001b[0m\u001b[0mstream\u001b[0m\u001b[1;33m,\u001b[0m\u001b[1;33m\u001b[0m\u001b[1;33m\u001b[0m\u001b[0m\n\u001b[0;32m    159\u001b[0m             \u001b[0mrequest_id\u001b[0m\u001b[1;33m=\u001b[0m\u001b[0mrequest_id\u001b[0m\u001b[1;33m,\u001b[0m\u001b[1;33m\u001b[0m\u001b[1;33m\u001b[0m\u001b[0m\n\u001b[1;32m--> 160\u001b[1;33m             \u001b[0mrequest_timeout\u001b[0m\u001b[1;33m=\u001b[0m\u001b[0mrequest_timeout\u001b[0m\u001b[1;33m,\u001b[0m\u001b[1;33m\u001b[0m\u001b[1;33m\u001b[0m\u001b[0m\n\u001b[0m\u001b[0;32m    161\u001b[0m         )\n\u001b[0;32m    162\u001b[0m \u001b[1;33m\u001b[0m\u001b[0m\n",
      "\u001b[1;32mc:\\Users\\gustavo.ferreira\\.pyenv\\pyenv-win\\versions\\3.7.4\\lib\\site-packages\\openai\\api_requestor.py\u001b[0m in \u001b[0;36mrequest\u001b[1;34m(self, method, url, params, headers, files, stream, request_id, request_timeout)\u001b[0m\n\u001b[0;32m    296\u001b[0m             \u001b[0mrequest_timeout\u001b[0m\u001b[1;33m=\u001b[0m\u001b[0mrequest_timeout\u001b[0m\u001b[1;33m,\u001b[0m\u001b[1;33m\u001b[0m\u001b[1;33m\u001b[0m\u001b[0m\n\u001b[0;32m    297\u001b[0m         )\n\u001b[1;32m--> 298\u001b[1;33m         \u001b[0mresp\u001b[0m\u001b[1;33m,\u001b[0m \u001b[0mgot_stream\u001b[0m \u001b[1;33m=\u001b[0m \u001b[0mself\u001b[0m\u001b[1;33m.\u001b[0m\u001b[0m_interpret_response\u001b[0m\u001b[1;33m(\u001b[0m\u001b[0mresult\u001b[0m\u001b[1;33m,\u001b[0m \u001b[0mstream\u001b[0m\u001b[1;33m)\u001b[0m\u001b[1;33m\u001b[0m\u001b[1;33m\u001b[0m\u001b[0m\n\u001b[0m\u001b[0;32m    299\u001b[0m         \u001b[1;32mreturn\u001b[0m \u001b[0mresp\u001b[0m\u001b[1;33m,\u001b[0m \u001b[0mgot_stream\u001b[0m\u001b[1;33m,\u001b[0m \u001b[0mself\u001b[0m\u001b[1;33m.\u001b[0m\u001b[0mapi_key\u001b[0m\u001b[1;33m\u001b[0m\u001b[1;33m\u001b[0m\u001b[0m\n\u001b[0;32m    300\u001b[0m \u001b[1;33m\u001b[0m\u001b[0m\n",
      "\u001b[1;32mc:\\Users\\gustavo.ferreira\\.pyenv\\pyenv-win\\versions\\3.7.4\\lib\\site-packages\\openai\\api_requestor.py\u001b[0m in \u001b[0;36m_interpret_response\u001b[1;34m(self, result, stream)\u001b[0m\n\u001b[0;32m    702\u001b[0m                     \u001b[0mresult\u001b[0m\u001b[1;33m.\u001b[0m\u001b[0mstatus_code\u001b[0m\u001b[1;33m,\u001b[0m\u001b[1;33m\u001b[0m\u001b[1;33m\u001b[0m\u001b[0m\n\u001b[0;32m    703\u001b[0m                     \u001b[0mresult\u001b[0m\u001b[1;33m.\u001b[0m\u001b[0mheaders\u001b[0m\u001b[1;33m,\u001b[0m\u001b[1;33m\u001b[0m\u001b[1;33m\u001b[0m\u001b[0m\n\u001b[1;32m--> 704\u001b[1;33m                     \u001b[0mstream\u001b[0m\u001b[1;33m=\u001b[0m\u001b[1;32mFalse\u001b[0m\u001b[1;33m,\u001b[0m\u001b[1;33m\u001b[0m\u001b[1;33m\u001b[0m\u001b[0m\n\u001b[0m\u001b[0;32m    705\u001b[0m                 ),\n\u001b[0;32m    706\u001b[0m                 \u001b[1;32mFalse\u001b[0m\u001b[1;33m,\u001b[0m\u001b[1;33m\u001b[0m\u001b[1;33m\u001b[0m\u001b[0m\n",
      "\u001b[1;32mc:\\Users\\gustavo.ferreira\\.pyenv\\pyenv-win\\versions\\3.7.4\\lib\\site-packages\\openai\\api_requestor.py\u001b[0m in \u001b[0;36m_interpret_response_line\u001b[1;34m(self, rbody, rcode, rheaders, stream)\u001b[0m\n\u001b[0;32m    764\u001b[0m         \u001b[1;32mif\u001b[0m \u001b[0mstream_error\u001b[0m \u001b[1;32mor\u001b[0m \u001b[1;32mnot\u001b[0m \u001b[1;36m200\u001b[0m \u001b[1;33m<=\u001b[0m \u001b[0mrcode\u001b[0m \u001b[1;33m<\u001b[0m \u001b[1;36m300\u001b[0m\u001b[1;33m:\u001b[0m\u001b[1;33m\u001b[0m\u001b[1;33m\u001b[0m\u001b[0m\n\u001b[0;32m    765\u001b[0m             raise self.handle_error_response(\n\u001b[1;32m--> 766\u001b[1;33m                 \u001b[0mrbody\u001b[0m\u001b[1;33m,\u001b[0m \u001b[0mrcode\u001b[0m\u001b[1;33m,\u001b[0m \u001b[0mresp\u001b[0m\u001b[1;33m.\u001b[0m\u001b[0mdata\u001b[0m\u001b[1;33m,\u001b[0m \u001b[0mrheaders\u001b[0m\u001b[1;33m,\u001b[0m \u001b[0mstream_error\u001b[0m\u001b[1;33m=\u001b[0m\u001b[0mstream_error\u001b[0m\u001b[1;33m\u001b[0m\u001b[1;33m\u001b[0m\u001b[0m\n\u001b[0m\u001b[0;32m    767\u001b[0m             )\n\u001b[0;32m    768\u001b[0m         \u001b[1;32mreturn\u001b[0m \u001b[0mresp\u001b[0m\u001b[1;33m\u001b[0m\u001b[1;33m\u001b[0m\u001b[0m\n",
      "\u001b[1;31mRateLimitError\u001b[0m: You exceeded your current quota, please check your plan and billing details. For more information on this error, read the docs: https://platform.openai.com/docs/guides/error-codes/api-errors."
     ]
    }
   ],
   "source": [
    "# Função principal\n",
    "def principal():\n",
    "    # 1. Pré-processamento de Dados\n",
    "    diretorio_pdfs = 'C:\\Users\\gustavo.ferreira\\Desktop\\IA_chatBot\\Políticas'  # Substitua pelo caminho do diretório onde os PDFs estão localizados\n",
    "    textos = extrair_textos_dos_pdfs(diretorio_pdfs)\n",
    "\n",
    "    for texto in textos:\n",
    "        # Verifica se o texto extraído não está vazio\n",
    "        if texto.strip() == \"\":\n",
    "            print(\"O texto extraído de um dos PDFs está vazio. Verifique o PDF.\")\n",
    "            continue\n",
    "\n",
    "        texto_preprocessado = preprocessar_texto(texto)\n",
    "    # 2. Indexação de Conteúdo\n",
    "    documentos = [texto_preprocessado]\n",
    "    tfidf_vectorizer, matriz_tfidf = construir_indice(documentos)\n",
    "\n",
    "    while True:\n",
    "        # 3. Compreensão de Perguntas\n",
    "        pergunta = input(\"Faça uma pergunta sobre os normativos corporativos (ou digite 'sair' para encerrar): \")\n",
    "        if pergunta.lower() == 'sair':\n",
    "            print(\"Até logo!\")\n",
    "            break\n",
    "\n",
    "        # 4. Busca e Recuperação de Informações\n",
    "        # Aproxima o vetor gerado da pergunta com os vetores do documento referência para retornar a resposta \n",
    "        doc_relevante = buscar_documentos(pergunta, documentos, tfidf_vectorizer, matriz_tfidf)\n",
    "\n",
    "        # 5. Geração de Respostas\n",
    "        resposta = gerar_resposta(pergunta, doc_relevante)\n",
    "        print(\"Resposta:\", resposta)\n",
    "\n",
    "if __name__ == \"__main__\":\n",
    "    principal()"
   ]
  }
 ],
 "metadata": {
  "kernelspec": {
   "display_name": "Python 3",
   "language": "python",
   "name": "python3"
  },
  "language_info": {
   "codemirror_mode": {
    "name": "ipython",
    "version": 3
   },
   "file_extension": ".py",
   "mimetype": "text/x-python",
   "name": "python",
   "nbconvert_exporter": "python",
   "pygments_lexer": "ipython3",
   "version": "3.7.4"
  }
 },
 "nbformat": 4,
 "nbformat_minor": 2
}
