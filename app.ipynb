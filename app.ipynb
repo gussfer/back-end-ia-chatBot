{
 "cells": [
  {
   "cell_type": "code",
   "execution_count": 1,
   "metadata": {},
   "outputs": [],
   "source": [
    "import os\n",
    "import PyPDF2\n",
    "import nltk\n",
    "from nltk.tokenize import word_tokenize\n",
    "from nltk.corpus import stopwords\n",
    "from nltk.stem import WordNetLemmatizer\n",
    "from sklearn.feature_extraction.text import TfidfVectorizer\n",
    "from sklearn.metrics.pairwise import cosine_similarity\n",
    "import openai\n",
    "import dotenv"
   ]
  },
  {
   "cell_type": "code",
   "execution_count": 2,
   "metadata": {},
   "outputs": [],
   "source": [
    "# Configuração da API do OpenAI\n",
    "dotenv.load_dotenv(dotenv.find_dotenv())\n",
    "API_KEY = os.getenv(\"API_KEY\")\n",
    "openai.api_key = API_KEY\n",
    "# print(openai.api_key)"
   ]
  },
  {
   "cell_type": "code",
   "execution_count": 3,
   "metadata": {},
   "outputs": [
    {
     "name": "stderr",
     "output_type": "stream",
     "text": [
      "[nltk_data] Downloading package punkt to\n",
      "[nltk_data]     C:\\Users\\gustavo.ferreira\\AppData\\Roaming\\nltk_data...\n",
      "[nltk_data]   Package punkt is already up-to-date!\n",
      "[nltk_data] Downloading package stopwords to\n",
      "[nltk_data]     C:\\Users\\gustavo.ferreira\\AppData\\Roaming\\nltk_data...\n",
      "[nltk_data]   Package stopwords is already up-to-date!\n",
      "[nltk_data] Downloading package rslp to\n",
      "[nltk_data]     C:\\Users\\gustavo.ferreira\\AppData\\Roaming\\nltk_data...\n",
      "[nltk_data]   Package rslp is already up-to-date!\n"
     ]
    },
    {
     "data": {
      "text/plain": [
       "True"
      ]
     },
     "execution_count": 3,
     "metadata": {},
     "output_type": "execute_result"
    }
   ],
   "source": [
    "# Configuração do NLTK\n",
    "nltk.download('punkt')\n",
    "nltk.download('stopwords')\n",
    "nltk.download('rslp')"
   ]
  },
  {
   "cell_type": "code",
   "execution_count": 4,
   "metadata": {},
   "outputs": [],
   "source": [
    "# Função para listar todos os arquivos PDF em um diretório\n",
    "def listar_pdfs_em_diretorio(diretorio):\n",
    "    return [os.path.join(diretorio, arquivo) for arquivo in os.listdir(diretorio) if arquivo.lower().endswith('.pdf')]"
   ]
  },
  {
   "cell_type": "code",
   "execution_count": 5,
   "metadata": {},
   "outputs": [],
   "source": [
    "# Função para converter múltiplos PDFs em texto puro\n",
    "def extrair_textos_dos_pdfs(diretorio):\n",
    "    lista_caminhos_pdf = listar_pdfs_em_diretorio(diretorio)\n",
    "    textos = []\n",
    "    for caminho_pdf in lista_caminhos_pdf:\n",
    "        texto = \"\"\n",
    "        with open(caminho_pdf, 'rb') as arquivo:\n",
    "            leitor_pdf = PyPDF2.PdfReader(arquivo)\n",
    "            for pagina in leitor_pdf.pages:\n",
    "                texto += pagina.extract_text()\n",
    "        textos.append(texto)\n",
    "    return textos"
   ]
  },
  {
   "cell_type": "code",
   "execution_count": 6,
   "metadata": {},
   "outputs": [],
   "source": [
    "# Pré-processamento de texto\n",
    "def preprocessar_texto(texto):\n",
    "    # Tokenização\n",
    "    tokens = word_tokenize(texto.lower())\n",
    "    # Remoção de stopwords, pontuações e tokens não alfanuméricos\n",
    "    stopwords_en = set(stopwords.words('portuguese'))\n",
    "    tokens_filtrados = [token for token in tokens if token.isalnum() and token not in stopwords_en]\n",
    "    # Lematização\n",
    "    lemmatizer = WordNetLemmatizer()\n",
    "    tokens_lemmatizados = [lemmatizer.lemmatize(token) for token in tokens_filtrados]\n",
    "    if not tokens_lemmatizados:\n",
    "        # Se não houver nenhuma palavra alfanumérica após o pré-processamento, manter todas as palavras\n",
    "        tokens_lemmatizados = [token for token in tokens if token.isalnum()]\n",
    "    return ' '.join(tokens_lemmatizados)"
   ]
  },
  {
   "cell_type": "code",
   "execution_count": 7,
   "metadata": {},
   "outputs": [],
   "source": [
    "# Construção do índice invertido\n",
    "def construir_indice(documentos):\n",
    "    tfidf_vectorizer = TfidfVectorizer()\n",
    "    matriz_tfidf = tfidf_vectorizer.fit_transform(documentos)\n",
    "    return tfidf_vectorizer, matriz_tfidf"
   ]
  },
  {
   "cell_type": "code",
   "execution_count": 8,
   "metadata": {},
   "outputs": [],
   "source": [
    "# Busca de documentos relevantes\n",
    "def buscar_documentos(pergunta, documentos, tfidf_vectorizer, matriz_tfidf):\n",
    "    pergunta = preprocessar_texto(pergunta)\n",
    "    pergunta_vetor = tfidf_vectorizer.transform([pergunta]) \n",
    "    similaridades = cosine_similarity(pergunta_vetor, matriz_tfidf)\n",
    "    indice_doc_relevantes = similaridades.argmax()\n",
    "    return documentos[indice_doc_relevantes]"
   ]
  },
  {
   "cell_type": "code",
   "execution_count": 9,
   "metadata": {},
   "outputs": [],
   "source": [
    "# # Geração de respostas com o ChatGPT\n",
    "# def gerar_resposta(pergunta, contexto):\n",
    "#     prompt = f\"Contexto: {contexto}\\n\\nPergunta: {pergunta}\\n\\nResposta do modelo:\\n\"\n",
    "#     resposta = openai.Completion.create(\n",
    "#         model=\"gpt-3.5-turbo-instruct\",\n",
    "#         prompt=prompt,\n",
    "#         max_tokens=300,\n",
    "#         temperature=0.5,\n",
    "#         top_p=0.9,\n",
    "#         frequency_penalty=0.0,\n",
    "#         presence_penalty=0.0\n",
    "#     )\n",
    "#     resposta_texto = resposta.choices[0]['text'].strip()\n",
    "#     # Limpar contexto após cada pergunta\n",
    "#     contexto = \"\"\n",
    "#     # Remover parênteses e aspas\n",
    "#     resposta_texto = resposta_texto.strip('()\"')\n",
    "#     return resposta_texto"
   ]
  },
  {
   "cell_type": "code",
   "execution_count": 10,
   "metadata": {},
   "outputs": [],
   "source": [
    "# Geração de respostas com o ChatGPT\n",
    "def gerar_resposta(pergunta, contexto):\n",
    "    prompt = f\"Contexto: {contexto}\\n\\nPergunta: {pergunta}\\n\\nResposta do modelo:\\n\"\n",
    "    resposta = openai.Completion.create(\n",
    "        model=\"gpt-3.5-turbo-instruct\",\n",
    "        prompt=prompt,\n",
    "        max_tokens=300,\n",
    "        temperature=0.5,  # Ajuste conforme a necessidade para mais ou menos criatividade\n",
    "        top_p=1.0,  # Ajuste para controlar a diversidade da resposta\n",
    "        frequency_penalty=0.5,  # Ajuste para desencorajar a repetição de palavras\n",
    "        presence_penalty=0.5  # Ajuste para encorajar a introdução de novos conceitos\n",
    "    )\n",
    "    resposta_texto = resposta.choices[0]['text'].strip()\n",
    "    # Limpar contexto após cada pergunta\n",
    "    contexto = \"\"\n",
    "    # Remover parênteses e aspas\n",
    "    resposta_texto = resposta_texto.strip('()\"')\n",
    "    return resposta_texto"
   ]
  },
  {
   "cell_type": "code",
   "execution_count": 13,
   "metadata": {},
   "outputs": [
    {
     "name": "stdout",
     "output_type": "stream",
     "text": [
      "Resposta: De acordo com a POLÍTICA DE ALÇADAS Algar S/A, os limites de alçadas são definidos de acordo com o cargo de gestão dentro da empresa, sendo estabelecidos para os seguintes níveis hierárquicos:\n",
      "\n",
      "1. Diretor Estatutário;\n",
      "2. Gerente;\n",
      "3. Coordenador.\n",
      "\n",
      "Além disso, é importante ressaltar que a aprovação das alçadas deve ser feita em conjunto com o superior hierárquico e que todas as deliberações devem obedecer às disposições presentes na política, podendo impactar o grupo Algar em diversos aspectos.\n",
      "Resposta: De acordo com a POLÍTICA DE ALÇADAS Algar S/A, os limites de alçadas são definidos de acordo com o cargo de gestão dentro da empresa, sendo estabelecidos para os seguintes níveis hierárquicos: Diretor Estatutário, Gerente e Coordenador. Além disso, é importante ressaltar que a aprovação das alçadas deve ser feita em conjunto com o superior hierárquico e que todas as deliberações devem obedecer às disposições presentes na política, podendo impactar o grupo Algar em diversos aspectos.\n",
      "Até logo!\n"
     ]
    }
   ],
   "source": [
    "# Função principal\n",
    "# Função principal\n",
    "def principal():\n",
    "    # 1. Pré-processamento de Dados\n",
    "    diretorio_pdfs = r'C:\\Users\\gustavo.ferreira\\Desktop\\IA_chatBot\\Políticas'  # Substitua pelo caminho do diretório onde os PDFs estão localizados\n",
    "    textos = extrair_textos_dos_pdfs(diretorio_pdfs)\n",
    "    \n",
    "    # Pré-processamento dos textos dos documentos\n",
    "    textos_preprocessados = [preprocessar_texto(texto) for texto in textos if texto.strip()]\n",
    "    \n",
    "    # 2. Indexação de Conteúdo\n",
    "    tfidf_vectorizer, matriz_tfidf = construir_indice(textos_preprocessados)\n",
    "\n",
    "\n",
    "    contexto = \"\"  # Inicializa o contexto como uma string vazia\n",
    "\n",
    "    while True:\n",
    "        # 3. Compreensão de Perguntas\n",
    "        pergunta = input(\"Faça uma pergunta sobre os normativos corporativos (ou digite 'sair' para encerrar): \")\n",
    "        if pergunta.lower() == 'sair':\n",
    "            print(\"Até logo!\")\n",
    "            break\n",
    "\n",
    "        # Adiciona o contexto à pergunta\n",
    "        pergunta_com_contexto = f\"{pergunta} {contexto}\"\n",
    "\n",
    "        # 4. Extração de Palavras-Chave\n",
    "        palavras_chave = word_tokenize(pergunta_com_contexto.lower())\n",
    "\n",
    "        # 5. Busca e Recuperação de Informações\n",
    "        doc_relevante = buscar_documentos(pergunta_com_contexto, textos_preprocessados, tfidf_vectorizer, matriz_tfidf)\n",
    "\n",
    "        # 6. Geração de Respostas\n",
    "        resposta = gerar_resposta(pergunta_com_contexto, doc_relevante)\n",
    "        print(\"Resposta:\", resposta)\n",
    "\n",
    "        # Atualiza o contexto com a última pergunta e resposta\n",
    "        contexto += f\" Pergunta: {pergunta} Resposta: {resposta}\"\n",
    "\n",
    "if __name__ == \"__main__\":\n",
    "    principal()\n"
   ]
  }
 ],
 "metadata": {
  "kernelspec": {
   "display_name": "Python 3",
   "language": "python",
   "name": "python3"
  },
  "language_info": {
   "codemirror_mode": {
    "name": "ipython",
    "version": 3
   },
   "file_extension": ".py",
   "mimetype": "text/x-python",
   "name": "python",
   "nbconvert_exporter": "python",
   "pygments_lexer": "ipython3",
   "version": "3.7.4"
  }
 },
 "nbformat": 4,
 "nbformat_minor": 2
}
